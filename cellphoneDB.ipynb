{
 "cells": [
  {
   "cell_type": "code",
   "execution_count": 1,
   "id": "2a120012",
   "metadata": {},
   "outputs": [],
   "source": [
    "import pandas as pd\n",
    "import glob\n",
    "import os"
   ]
  },
  {
   "cell_type": "code",
   "execution_count": 61,
   "id": "d473e0d8",
   "metadata": {},
   "outputs": [
    {
     "data": {
      "text/plain": [
       "['cellphonedb_12_29_2023_111958.zip',\n",
       " 'complex_input.csv',\n",
       " 'gene_input.csv',\n",
       " 'interaction_input.csv',\n",
       " 'protein_input.csv',\n",
       " 'sources',\n",
       " 'transcription_factor_input.csv']"
      ]
     },
     "execution_count": 61,
     "metadata": {},
     "output_type": "execute_result"
    }
   ],
   "source": [
    "# -- Path where the input files to generate the database are located\n",
    "cpdb_input_dir = './data/' \n",
    "os.listdir(cpdb_input_dir)"
   ]
  },
  {
   "cell_type": "code",
   "execution_count": 2,
   "id": "3312ada6",
   "metadata": {},
   "outputs": [
    {
     "name": "stderr",
     "output_type": "stream",
     "text": [
      "/home/windye/miniconda3/lib/python3.11/site-packages/numpy/core/getlimits.py:542: UserWarning: Signature b'\\x00\\xd0\\xcc\\xcc\\xcc\\xcc\\xcc\\xcc\\xfb\\xbf\\x00\\x00\\x00\\x00\\x00\\x00' for <class 'numpy.longdouble'> does not match any known type: falling back to type probe function.\n",
      "This warnings indicates broken support for the dtype!\n",
      "  machar = _get_machar(dtype)\n"
     ]
    }
   ],
   "source": [
    "from cellphonedb.utils import db_utils\n",
    "\n",
    "# -- Creates new database\n",
    "db_utils.create_db(cpdb_input_dir)"
   ]
  },
  {
   "cell_type": "code",
   "execution_count": null,
   "id": "18400941",
   "metadata": {},
   "outputs": [],
   "source": [
    "%%bash\n",
    "mv ./data/cellphonedb_08_29_2023_142417.zip ./cellphonedb.zip"
   ]
  },
  {
   "cell_type": "code",
   "execution_count": 3,
   "id": "d0131582",
   "metadata": {},
   "outputs": [],
   "source": [
    "import pandas as pd\n",
    "import sys\n",
    "import os"
   ]
  },
  {
   "cell_type": "code",
   "execution_count": 4,
   "id": "5ddd47d7",
   "metadata": {},
   "outputs": [
    {
     "name": "stdout",
     "output_type": "stream",
     "text": [
      "3.11.4 (main, Jul  5 2023, 13:45:01) [GCC 11.2.0]\n"
     ]
    }
   ],
   "source": [
    "print(sys.version)"
   ]
  },
  {
   "cell_type": "code",
   "execution_count": 9,
   "id": "2d7a622a",
   "metadata": {},
   "outputs": [
    {
     "name": "stdout",
     "output_type": "stream",
     "text": [
      "Note: you may need to restart the kernel to use updated packages.\n"
     ]
    }
   ],
   "source": [
    "pip install --quiet cellphonedb"
   ]
  },
  {
   "cell_type": "code",
   "execution_count": 12,
   "id": "9126477b",
   "metadata": {},
   "outputs": [],
   "source": [
    "cpdb_file_path = 'cellphonedb.zip'\n",
    "meta_file_path = 'STH_meta.tsv'\n",
    "counts_file_path = \"STH.h5ad\"\n",
    "#microenvs_file_path = 'data/microenvironment.tsv'\n",
    "#degs_file_path = 'CAF_T_DEGs.tsv'\n",
    "#active_tf_path = 'data/active_TFs.tsv'\n",
    "out_path = './STH_results/'"
   ]
  },
  {
   "cell_type": "code",
   "execution_count": 66,
   "id": "e6abcd27",
   "metadata": {},
   "outputs": [
    {
     "data": {
      "text/html": [
       "<div>\n",
       "<style scoped>\n",
       "    .dataframe tbody tr th:only-of-type {\n",
       "        vertical-align: middle;\n",
       "    }\n",
       "\n",
       "    .dataframe tbody tr th {\n",
       "        vertical-align: top;\n",
       "    }\n",
       "\n",
       "    .dataframe thead th {\n",
       "        text-align: right;\n",
       "    }\n",
       "</style>\n",
       "<table border=\"1\" class=\"dataframe\">\n",
       "  <thead>\n",
       "    <tr style=\"text-align: right;\">\n",
       "      <th></th>\n",
       "      <th>Cell</th>\n",
       "      <th>cell_type</th>\n",
       "    </tr>\n",
       "  </thead>\n",
       "  <tbody>\n",
       "    <tr>\n",
       "      <th>0</th>\n",
       "      <td>GSM4205687_ATAGACCTCACATAGC-1</td>\n",
       "      <td>c09</td>\n",
       "    </tr>\n",
       "    <tr>\n",
       "      <th>1</th>\n",
       "      <td>GSM4205687_CTAGCCTCATCGGTTA-1</td>\n",
       "      <td>c03</td>\n",
       "    </tr>\n",
       "    <tr>\n",
       "      <th>2</th>\n",
       "      <td>GSM4205687_GGACGTCGTTTGCATG-1</td>\n",
       "      <td>c03</td>\n",
       "    </tr>\n",
       "  </tbody>\n",
       "</table>\n",
       "</div>"
      ],
      "text/plain": [
       "                            Cell cell_type\n",
       "0  GSM4205687_ATAGACCTCACATAGC-1       c09\n",
       "1  GSM4205687_CTAGCCTCATCGGTTA-1       c03\n",
       "2  GSM4205687_GGACGTCGTTTGCATG-1       c03"
      ]
     },
     "execution_count": 66,
     "metadata": {},
     "output_type": "execute_result"
    }
   ],
   "source": [
    "metadata = pd.read_csv(meta_file_path, sep = '\\t')\n",
    "metadata.head(3)"
   ]
  },
  {
   "cell_type": "code",
   "execution_count": 17,
   "id": "48e9f038",
   "metadata": {},
   "outputs": [
    {
     "data": {
      "text/plain": [
       "(3200, 16353)"
      ]
     },
     "execution_count": 17,
     "metadata": {},
     "output_type": "execute_result"
    }
   ],
   "source": [
    "import anndata\n",
    "#adata =anndata.read_mtx(counts_file_path)\n",
    "adata = anndata.read_h5ad(counts_file_path)\n",
    "adata.shape"
   ]
  },
  {
   "cell_type": "code",
   "execution_count": 35,
   "id": "5adbcf94",
   "metadata": {},
   "outputs": [
    {
     "data": {
      "text/html": [
       "<div>\n",
       "<style scoped>\n",
       "    .dataframe tbody tr th:only-of-type {\n",
       "        vertical-align: middle;\n",
       "    }\n",
       "\n",
       "    .dataframe tbody tr th {\n",
       "        vertical-align: top;\n",
       "    }\n",
       "\n",
       "    .dataframe thead th {\n",
       "        text-align: right;\n",
       "    }\n",
       "</style>\n",
       "<table border=\"1\" class=\"dataframe\">\n",
       "  <thead>\n",
       "    <tr style=\"text-align: right;\">\n",
       "      <th></th>\n",
       "      <th>LINC00115</th>\n",
       "      <th>NOC2L</th>\n",
       "      <th>KLHL17</th>\n",
       "      <th>PLEKHN1</th>\n",
       "      <th>HES4</th>\n",
       "      <th>ISG15</th>\n",
       "      <th>C1orf159</th>\n",
       "      <th>TNFRSF18</th>\n",
       "      <th>TNFRSF4</th>\n",
       "      <th>SDF4</th>\n",
       "      <th>...</th>\n",
       "      <th>STAB2</th>\n",
       "      <th>BRINP3</th>\n",
       "      <th>SATB2-AS1</th>\n",
       "      <th>AC007009.1</th>\n",
       "      <th>ISLR2</th>\n",
       "      <th>C16orf89</th>\n",
       "      <th>ERN2</th>\n",
       "      <th>SYT3</th>\n",
       "      <th>ABCA9-AS1</th>\n",
       "      <th>RNASE10</th>\n",
       "    </tr>\n",
       "  </thead>\n",
       "  <tbody>\n",
       "    <tr>\n",
       "      <th>GSM4205687_GCATGATGTGAGTGAC-1</th>\n",
       "      <td>0.0</td>\n",
       "      <td>0.0</td>\n",
       "      <td>0.0</td>\n",
       "      <td>0.0</td>\n",
       "      <td>0.000000</td>\n",
       "      <td>0.000000</td>\n",
       "      <td>0.0</td>\n",
       "      <td>0.000000</td>\n",
       "      <td>0.000000</td>\n",
       "      <td>0.948284</td>\n",
       "      <td>...</td>\n",
       "      <td>0.0</td>\n",
       "      <td>0.0</td>\n",
       "      <td>0.0</td>\n",
       "      <td>0.0</td>\n",
       "      <td>0.0</td>\n",
       "      <td>0.0</td>\n",
       "      <td>0.0</td>\n",
       "      <td>0.0</td>\n",
       "      <td>0.0</td>\n",
       "      <td>0.0</td>\n",
       "    </tr>\n",
       "    <tr>\n",
       "      <th>GSM4205689_ACGCAGCAGGCCGAAT-1</th>\n",
       "      <td>0.0</td>\n",
       "      <td>0.0</td>\n",
       "      <td>0.0</td>\n",
       "      <td>0.0</td>\n",
       "      <td>3.589860</td>\n",
       "      <td>2.403825</td>\n",
       "      <td>0.0</td>\n",
       "      <td>0.000000</td>\n",
       "      <td>0.000000</td>\n",
       "      <td>0.000000</td>\n",
       "      <td>...</td>\n",
       "      <td>0.0</td>\n",
       "      <td>0.0</td>\n",
       "      <td>0.0</td>\n",
       "      <td>0.0</td>\n",
       "      <td>0.0</td>\n",
       "      <td>0.0</td>\n",
       "      <td>0.0</td>\n",
       "      <td>0.0</td>\n",
       "      <td>0.0</td>\n",
       "      <td>0.0</td>\n",
       "    </tr>\n",
       "    <tr>\n",
       "      <th>GSM4205689_ACTGAACAGTAATCCC-1</th>\n",
       "      <td>0.0</td>\n",
       "      <td>0.0</td>\n",
       "      <td>0.0</td>\n",
       "      <td>0.0</td>\n",
       "      <td>2.959726</td>\n",
       "      <td>4.306370</td>\n",
       "      <td>0.0</td>\n",
       "      <td>0.000000</td>\n",
       "      <td>0.000000</td>\n",
       "      <td>0.000000</td>\n",
       "      <td>...</td>\n",
       "      <td>0.0</td>\n",
       "      <td>0.0</td>\n",
       "      <td>0.0</td>\n",
       "      <td>0.0</td>\n",
       "      <td>0.0</td>\n",
       "      <td>0.0</td>\n",
       "      <td>0.0</td>\n",
       "      <td>0.0</td>\n",
       "      <td>0.0</td>\n",
       "      <td>0.0</td>\n",
       "    </tr>\n",
       "    <tr>\n",
       "      <th>GSM4205689_GATGCTAGTGTATGGG-1</th>\n",
       "      <td>0.0</td>\n",
       "      <td>0.0</td>\n",
       "      <td>0.0</td>\n",
       "      <td>0.0</td>\n",
       "      <td>0.000000</td>\n",
       "      <td>0.000000</td>\n",
       "      <td>0.0</td>\n",
       "      <td>0.000000</td>\n",
       "      <td>0.000000</td>\n",
       "      <td>0.000000</td>\n",
       "      <td>...</td>\n",
       "      <td>0.0</td>\n",
       "      <td>0.0</td>\n",
       "      <td>0.0</td>\n",
       "      <td>0.0</td>\n",
       "      <td>0.0</td>\n",
       "      <td>0.0</td>\n",
       "      <td>0.0</td>\n",
       "      <td>0.0</td>\n",
       "      <td>0.0</td>\n",
       "      <td>0.0</td>\n",
       "    </tr>\n",
       "    <tr>\n",
       "      <th>GSM4205689_GGGAATGGTCTTCTCG-1</th>\n",
       "      <td>0.0</td>\n",
       "      <td>0.0</td>\n",
       "      <td>0.0</td>\n",
       "      <td>0.0</td>\n",
       "      <td>0.000000</td>\n",
       "      <td>0.000000</td>\n",
       "      <td>0.0</td>\n",
       "      <td>0.000000</td>\n",
       "      <td>0.000000</td>\n",
       "      <td>1.838231</td>\n",
       "      <td>...</td>\n",
       "      <td>0.0</td>\n",
       "      <td>0.0</td>\n",
       "      <td>0.0</td>\n",
       "      <td>0.0</td>\n",
       "      <td>0.0</td>\n",
       "      <td>0.0</td>\n",
       "      <td>0.0</td>\n",
       "      <td>0.0</td>\n",
       "      <td>0.0</td>\n",
       "      <td>0.0</td>\n",
       "    </tr>\n",
       "    <tr>\n",
       "      <th>...</th>\n",
       "      <td>...</td>\n",
       "      <td>...</td>\n",
       "      <td>...</td>\n",
       "      <td>...</td>\n",
       "      <td>...</td>\n",
       "      <td>...</td>\n",
       "      <td>...</td>\n",
       "      <td>...</td>\n",
       "      <td>...</td>\n",
       "      <td>...</td>\n",
       "      <td>...</td>\n",
       "      <td>...</td>\n",
       "      <td>...</td>\n",
       "      <td>...</td>\n",
       "      <td>...</td>\n",
       "      <td>...</td>\n",
       "      <td>...</td>\n",
       "      <td>...</td>\n",
       "      <td>...</td>\n",
       "      <td>...</td>\n",
       "      <td>...</td>\n",
       "    </tr>\n",
       "    <tr>\n",
       "      <th>STAD_6342t1_ACGATACCATGCATGT-1</th>\n",
       "      <td>0.0</td>\n",
       "      <td>0.0</td>\n",
       "      <td>0.0</td>\n",
       "      <td>0.0</td>\n",
       "      <td>0.000000</td>\n",
       "      <td>1.828080</td>\n",
       "      <td>0.0</td>\n",
       "      <td>3.085926</td>\n",
       "      <td>3.299890</td>\n",
       "      <td>1.828080</td>\n",
       "      <td>...</td>\n",
       "      <td>0.0</td>\n",
       "      <td>0.0</td>\n",
       "      <td>0.0</td>\n",
       "      <td>0.0</td>\n",
       "      <td>0.0</td>\n",
       "      <td>0.0</td>\n",
       "      <td>0.0</td>\n",
       "      <td>0.0</td>\n",
       "      <td>0.0</td>\n",
       "      <td>0.0</td>\n",
       "    </tr>\n",
       "    <tr>\n",
       "      <th>STAD_6709t1_CGCGGTAGTTCAGTAC-1</th>\n",
       "      <td>0.0</td>\n",
       "      <td>0.0</td>\n",
       "      <td>0.0</td>\n",
       "      <td>0.0</td>\n",
       "      <td>0.000000</td>\n",
       "      <td>1.885984</td>\n",
       "      <td>0.0</td>\n",
       "      <td>0.000000</td>\n",
       "      <td>1.885984</td>\n",
       "      <td>0.000000</td>\n",
       "      <td>...</td>\n",
       "      <td>0.0</td>\n",
       "      <td>0.0</td>\n",
       "      <td>0.0</td>\n",
       "      <td>0.0</td>\n",
       "      <td>0.0</td>\n",
       "      <td>0.0</td>\n",
       "      <td>0.0</td>\n",
       "      <td>0.0</td>\n",
       "      <td>0.0</td>\n",
       "      <td>0.0</td>\n",
       "    </tr>\n",
       "    <tr>\n",
       "      <th>STAD_6709t1_GCAGTTAGTAAGAGAG-1</th>\n",
       "      <td>0.0</td>\n",
       "      <td>0.0</td>\n",
       "      <td>0.0</td>\n",
       "      <td>0.0</td>\n",
       "      <td>0.000000</td>\n",
       "      <td>2.448487</td>\n",
       "      <td>0.0</td>\n",
       "      <td>2.448487</td>\n",
       "      <td>0.000000</td>\n",
       "      <td>0.000000</td>\n",
       "      <td>...</td>\n",
       "      <td>0.0</td>\n",
       "      <td>0.0</td>\n",
       "      <td>0.0</td>\n",
       "      <td>0.0</td>\n",
       "      <td>0.0</td>\n",
       "      <td>0.0</td>\n",
       "      <td>0.0</td>\n",
       "      <td>0.0</td>\n",
       "      <td>0.0</td>\n",
       "      <td>0.0</td>\n",
       "    </tr>\n",
       "    <tr>\n",
       "      <th>STAD_6709t1_TCATTTGTCCAGGGCT-1</th>\n",
       "      <td>0.0</td>\n",
       "      <td>0.0</td>\n",
       "      <td>0.0</td>\n",
       "      <td>0.0</td>\n",
       "      <td>0.000000</td>\n",
       "      <td>0.000000</td>\n",
       "      <td>0.0</td>\n",
       "      <td>0.000000</td>\n",
       "      <td>0.000000</td>\n",
       "      <td>0.000000</td>\n",
       "      <td>...</td>\n",
       "      <td>0.0</td>\n",
       "      <td>0.0</td>\n",
       "      <td>0.0</td>\n",
       "      <td>0.0</td>\n",
       "      <td>0.0</td>\n",
       "      <td>0.0</td>\n",
       "      <td>0.0</td>\n",
       "      <td>0.0</td>\n",
       "      <td>0.0</td>\n",
       "      <td>0.0</td>\n",
       "    </tr>\n",
       "    <tr>\n",
       "      <th>STAD_6709t1_TCTGAGAGTATTCTCT-1</th>\n",
       "      <td>0.0</td>\n",
       "      <td>0.0</td>\n",
       "      <td>0.0</td>\n",
       "      <td>0.0</td>\n",
       "      <td>0.000000</td>\n",
       "      <td>0.000000</td>\n",
       "      <td>0.0</td>\n",
       "      <td>0.000000</td>\n",
       "      <td>0.000000</td>\n",
       "      <td>0.000000</td>\n",
       "      <td>...</td>\n",
       "      <td>0.0</td>\n",
       "      <td>0.0</td>\n",
       "      <td>0.0</td>\n",
       "      <td>0.0</td>\n",
       "      <td>0.0</td>\n",
       "      <td>0.0</td>\n",
       "      <td>0.0</td>\n",
       "      <td>0.0</td>\n",
       "      <td>0.0</td>\n",
       "      <td>0.0</td>\n",
       "    </tr>\n",
       "  </tbody>\n",
       "</table>\n",
       "<p>19915 rows × 15559 columns</p>\n",
       "</div>"
      ],
      "text/plain": [
       "                                LINC00115  NOC2L  KLHL17  PLEKHN1      HES4  \\\n",
       "GSM4205687_GCATGATGTGAGTGAC-1         0.0    0.0     0.0      0.0  0.000000   \n",
       "GSM4205689_ACGCAGCAGGCCGAAT-1         0.0    0.0     0.0      0.0  3.589860   \n",
       "GSM4205689_ACTGAACAGTAATCCC-1         0.0    0.0     0.0      0.0  2.959726   \n",
       "GSM4205689_GATGCTAGTGTATGGG-1         0.0    0.0     0.0      0.0  0.000000   \n",
       "GSM4205689_GGGAATGGTCTTCTCG-1         0.0    0.0     0.0      0.0  0.000000   \n",
       "...                                   ...    ...     ...      ...       ...   \n",
       "STAD_6342t1_ACGATACCATGCATGT-1        0.0    0.0     0.0      0.0  0.000000   \n",
       "STAD_6709t1_CGCGGTAGTTCAGTAC-1        0.0    0.0     0.0      0.0  0.000000   \n",
       "STAD_6709t1_GCAGTTAGTAAGAGAG-1        0.0    0.0     0.0      0.0  0.000000   \n",
       "STAD_6709t1_TCATTTGTCCAGGGCT-1        0.0    0.0     0.0      0.0  0.000000   \n",
       "STAD_6709t1_TCTGAGAGTATTCTCT-1        0.0    0.0     0.0      0.0  0.000000   \n",
       "\n",
       "                                   ISG15  C1orf159  TNFRSF18   TNFRSF4  \\\n",
       "GSM4205687_GCATGATGTGAGTGAC-1   0.000000       0.0  0.000000  0.000000   \n",
       "GSM4205689_ACGCAGCAGGCCGAAT-1   2.403825       0.0  0.000000  0.000000   \n",
       "GSM4205689_ACTGAACAGTAATCCC-1   4.306370       0.0  0.000000  0.000000   \n",
       "GSM4205689_GATGCTAGTGTATGGG-1   0.000000       0.0  0.000000  0.000000   \n",
       "GSM4205689_GGGAATGGTCTTCTCG-1   0.000000       0.0  0.000000  0.000000   \n",
       "...                                  ...       ...       ...       ...   \n",
       "STAD_6342t1_ACGATACCATGCATGT-1  1.828080       0.0  3.085926  3.299890   \n",
       "STAD_6709t1_CGCGGTAGTTCAGTAC-1  1.885984       0.0  0.000000  1.885984   \n",
       "STAD_6709t1_GCAGTTAGTAAGAGAG-1  2.448487       0.0  2.448487  0.000000   \n",
       "STAD_6709t1_TCATTTGTCCAGGGCT-1  0.000000       0.0  0.000000  0.000000   \n",
       "STAD_6709t1_TCTGAGAGTATTCTCT-1  0.000000       0.0  0.000000  0.000000   \n",
       "\n",
       "                                    SDF4  ...  STAB2  BRINP3  SATB2-AS1  \\\n",
       "GSM4205687_GCATGATGTGAGTGAC-1   0.948284  ...    0.0     0.0        0.0   \n",
       "GSM4205689_ACGCAGCAGGCCGAAT-1   0.000000  ...    0.0     0.0        0.0   \n",
       "GSM4205689_ACTGAACAGTAATCCC-1   0.000000  ...    0.0     0.0        0.0   \n",
       "GSM4205689_GATGCTAGTGTATGGG-1   0.000000  ...    0.0     0.0        0.0   \n",
       "GSM4205689_GGGAATGGTCTTCTCG-1   1.838231  ...    0.0     0.0        0.0   \n",
       "...                                  ...  ...    ...     ...        ...   \n",
       "STAD_6342t1_ACGATACCATGCATGT-1  1.828080  ...    0.0     0.0        0.0   \n",
       "STAD_6709t1_CGCGGTAGTTCAGTAC-1  0.000000  ...    0.0     0.0        0.0   \n",
       "STAD_6709t1_GCAGTTAGTAAGAGAG-1  0.000000  ...    0.0     0.0        0.0   \n",
       "STAD_6709t1_TCATTTGTCCAGGGCT-1  0.000000  ...    0.0     0.0        0.0   \n",
       "STAD_6709t1_TCTGAGAGTATTCTCT-1  0.000000  ...    0.0     0.0        0.0   \n",
       "\n",
       "                                AC007009.1  ISLR2  C16orf89  ERN2  SYT3  \\\n",
       "GSM4205687_GCATGATGTGAGTGAC-1          0.0    0.0       0.0   0.0   0.0   \n",
       "GSM4205689_ACGCAGCAGGCCGAAT-1          0.0    0.0       0.0   0.0   0.0   \n",
       "GSM4205689_ACTGAACAGTAATCCC-1          0.0    0.0       0.0   0.0   0.0   \n",
       "GSM4205689_GATGCTAGTGTATGGG-1          0.0    0.0       0.0   0.0   0.0   \n",
       "GSM4205689_GGGAATGGTCTTCTCG-1          0.0    0.0       0.0   0.0   0.0   \n",
       "...                                    ...    ...       ...   ...   ...   \n",
       "STAD_6342t1_ACGATACCATGCATGT-1         0.0    0.0       0.0   0.0   0.0   \n",
       "STAD_6709t1_CGCGGTAGTTCAGTAC-1         0.0    0.0       0.0   0.0   0.0   \n",
       "STAD_6709t1_GCAGTTAGTAAGAGAG-1         0.0    0.0       0.0   0.0   0.0   \n",
       "STAD_6709t1_TCATTTGTCCAGGGCT-1         0.0    0.0       0.0   0.0   0.0   \n",
       "STAD_6709t1_TCTGAGAGTATTCTCT-1         0.0    0.0       0.0   0.0   0.0   \n",
       "\n",
       "                                ABCA9-AS1  RNASE10  \n",
       "GSM4205687_GCATGATGTGAGTGAC-1         0.0      0.0  \n",
       "GSM4205689_ACGCAGCAGGCCGAAT-1         0.0      0.0  \n",
       "GSM4205689_ACTGAACAGTAATCCC-1         0.0      0.0  \n",
       "GSM4205689_GATGCTAGTGTATGGG-1         0.0      0.0  \n",
       "GSM4205689_GGGAATGGTCTTCTCG-1         0.0      0.0  \n",
       "...                                   ...      ...  \n",
       "STAD_6342t1_ACGATACCATGCATGT-1        0.0      0.0  \n",
       "STAD_6709t1_CGCGGTAGTTCAGTAC-1        0.0      0.0  \n",
       "STAD_6709t1_GCAGTTAGTAAGAGAG-1        0.0      0.0  \n",
       "STAD_6709t1_TCATTTGTCCAGGGCT-1        0.0      0.0  \n",
       "STAD_6709t1_TCTGAGAGTATTCTCT-1        0.0      0.0  \n",
       "\n",
       "[19915 rows x 15559 columns]"
      ]
     },
     "execution_count": 35,
     "metadata": {},
     "output_type": "execute_result"
    }
   ],
   "source": [
    "adata.to_df()"
   ]
  },
  {
   "cell_type": "code",
   "execution_count": 68,
   "id": "faf9f4a6",
   "metadata": {},
   "outputs": [
    {
     "data": {
      "text/plain": [
       "True"
      ]
     },
     "execution_count": 68,
     "metadata": {},
     "output_type": "execute_result"
    }
   ],
   "source": [
    "list(adata.obs.index).sort() == list(metadata['Cell']).sort()"
   ]
  },
  {
   "cell_type": "code",
   "execution_count": 9,
   "id": "5e67d915",
   "metadata": {},
   "outputs": [
    {
     "data": {
      "text/html": [
       "<div>\n",
       "<style scoped>\n",
       "    .dataframe tbody tr th:only-of-type {\n",
       "        vertical-align: middle;\n",
       "    }\n",
       "\n",
       "    .dataframe tbody tr th {\n",
       "        vertical-align: top;\n",
       "    }\n",
       "\n",
       "    .dataframe thead th {\n",
       "        text-align: right;\n",
       "    }\n",
       "</style>\n",
       "<table border=\"1\" class=\"dataframe\">\n",
       "  <thead>\n",
       "    <tr style=\"text-align: right;\">\n",
       "      <th></th>\n",
       "      <th>cluster</th>\n",
       "      <th>gene</th>\n",
       "      <th>p_val_adj</th>\n",
       "      <th>p_val</th>\n",
       "      <th>avg_log2FC</th>\n",
       "      <th>pct.1</th>\n",
       "      <th>pct.2</th>\n",
       "    </tr>\n",
       "  </thead>\n",
       "  <tbody>\n",
       "    <tr>\n",
       "      <th>0</th>\n",
       "      <td>CD16+NK</td>\n",
       "      <td>FGFBP2</td>\n",
       "      <td>0.000000e+00</td>\n",
       "      <td>0.000000e+00</td>\n",
       "      <td>2.942959</td>\n",
       "      <td>0.623</td>\n",
       "      <td>0.017</td>\n",
       "    </tr>\n",
       "    <tr>\n",
       "      <th>1</th>\n",
       "      <td>CD16+NK</td>\n",
       "      <td>FCGR3A</td>\n",
       "      <td>0.000000e+00</td>\n",
       "      <td>0.000000e+00</td>\n",
       "      <td>1.874882</td>\n",
       "      <td>0.416</td>\n",
       "      <td>0.024</td>\n",
       "    </tr>\n",
       "    <tr>\n",
       "      <th>2</th>\n",
       "      <td>CD16+NK</td>\n",
       "      <td>S1PR5</td>\n",
       "      <td>2.759748e-298</td>\n",
       "      <td>1.773731e-302</td>\n",
       "      <td>1.102247</td>\n",
       "      <td>0.261</td>\n",
       "      <td>0.013</td>\n",
       "    </tr>\n",
       "  </tbody>\n",
       "</table>\n",
       "</div>"
      ],
      "text/plain": [
       "   cluster    gene      p_val_adj          p_val  avg_log2FC  pct.1  pct.2\n",
       "0  CD16+NK  FGFBP2   0.000000e+00   0.000000e+00    2.942959  0.623  0.017\n",
       "1  CD16+NK  FCGR3A   0.000000e+00   0.000000e+00    1.874882  0.416  0.024\n",
       "2  CD16+NK   S1PR5  2.759748e-298  1.773731e-302    1.102247  0.261  0.013"
      ]
     },
     "execution_count": 9,
     "metadata": {},
     "output_type": "execute_result"
    }
   ],
   "source": [
    "pd.read_csv(degs_file_path, sep = '\\t').head(3)"
   ]
  },
  {
   "cell_type": "code",
   "execution_count": 8,
   "id": "3a1bf9e4",
   "metadata": {},
   "outputs": [
    {
     "data": {
      "text/plain": [
       "'./ST_results/'"
      ]
     },
     "execution_count": 8,
     "metadata": {},
     "output_type": "execute_result"
    }
   ],
   "source": [
    "out_path"
   ]
  },
  {
   "cell_type": "code",
   "execution_count": 13,
   "id": "fef9cf97",
   "metadata": {},
   "outputs": [
    {
     "name": "stdout",
     "output_type": "stream",
     "text": [
      "Reading user files...\n",
      "The following user files were loaded successfully:\n",
      "STH.h5ad\n",
      "STH_meta.tsv\n",
      "[ ][CORE][19/01/24-15:39:45][INFO] [Cluster Statistical Analysis] Threshold:0.1 Iterations:1000 Debug-seed:42 Threads:5 Precision:3\n",
      "[ ][CORE][19/01/24-15:39:45][WARNING] Debug random seed enabled. Set to 42\n",
      "[ ][CORE][19/01/24-15:39:46][INFO] Running Real Analysis\n",
      "[ ][CORE][19/01/24-15:39:46][INFO] Running Statistical Analysis\n"
     ]
    },
    {
     "name": "stderr",
     "output_type": "stream",
     "text": [
      "100%|███████████████████████████████████████████████████████████████████████████████| 1000/1000 [00:22<00:00, 45.39it/s]"
     ]
    },
    {
     "name": "stdout",
     "output_type": "stream",
     "text": [
      "[ ][CORE][19/01/24-15:40:08][INFO] Building Pvalues result\n",
      "[ ][CORE][19/01/24-15:40:09][INFO] Building results\n"
     ]
    },
    {
     "name": "stderr",
     "output_type": "stream",
     "text": [
      "\n"
     ]
    },
    {
     "name": "stdout",
     "output_type": "stream",
     "text": [
      "[ ][CORE][19/01/24-15:40:09][INFO] Scoring interactions: Filtering genes per cell type..\n"
     ]
    },
    {
     "name": "stderr",
     "output_type": "stream",
     "text": [
      "100%|████████████████████████████████████████████████████████████████████████████████████| 8/8 [00:00<00:00, 368.32it/s]"
     ]
    },
    {
     "name": "stdout",
     "output_type": "stream",
     "text": [
      "[ ][CORE][19/01/24-15:40:09][INFO] Scoring interactions: Calculating mean expression of each gene per group/cell type..\n"
     ]
    },
    {
     "name": "stderr",
     "output_type": "stream",
     "text": [
      "\n",
      "100%|████████████████████████████████████████████████████████████████████████████████████| 8/8 [00:00<00:00, 996.12it/s]\n"
     ]
    },
    {
     "name": "stdout",
     "output_type": "stream",
     "text": [
      "[ ][CORE][19/01/24-15:40:09][INFO] Scoring interactions: Calculating scores for all interactions and cell types..\n"
     ]
    },
    {
     "name": "stderr",
     "output_type": "stream",
     "text": [
      "100%|███████████████████████████████████████████████████████████████████████████████████| 64/64 [00:05<00:00, 10.70it/s]\n"
     ]
    },
    {
     "name": "stdout",
     "output_type": "stream",
     "text": [
      "Saved deconvoluted to ./STH_results/statistical_analysis_deconvoluted_01_19_2024_154015.txt\n",
      "Saved deconvoluted_percents to ./STH_results/statistical_analysis_deconvoluted_percents_01_19_2024_154015.txt\n",
      "Saved means to ./STH_results/statistical_analysis_means_01_19_2024_154015.txt\n",
      "Saved pvalues to ./STH_results/statistical_analysis_pvalues_01_19_2024_154015.txt\n",
      "Saved significant_means to ./STH_results/statistical_analysis_significant_means_01_19_2024_154015.txt\n",
      "Saved interaction_scores to ./STH_results/statistical_analysis_interaction_scores_01_19_2024_154015.txt\n"
     ]
    }
   ],
   "source": [
    "from cellphonedb.src.core.methods import cpdb_statistical_analysis_method\n",
    "\n",
    "cpdb_results = cpdb_statistical_analysis_method.call(\n",
    "    cpdb_file_path = cpdb_file_path,                 # mandatory: CellphoneDB database zip file.\n",
    "    meta_file_path = meta_file_path,                 # mandatory: tsv file defining barcodes to cell label.\n",
    "    counts_file_path = counts_file_path,             # mandatory: normalized count matrix - a path to the counts file, or an in-memory AnnData object\n",
    "    counts_data = 'hgnc_symbol',                     # defines the gene annotation in counts matrix.\n",
    "    #active_tfs_file_path = active_tf_path,           # optional: defines cell types and their active TFs.\n",
    "    #microenvs_file_path = microenvs_file_path,       # optional (default: None): defines cells per microenvironment.\n",
    "    score_interactions = True,                       # optional: whether to score interactions or not. \n",
    "    iterations = 1000,                               # denotes the number of shufflings performed in the analysis.\n",
    "    threshold = 0.1,                                 # defines the min % of cells expressing a gene for this to be employed in the analysis.\n",
    "    threads = 5,                                     # number of threads to use in the analysis.\n",
    "    debug_seed = 42,                                 # debug randome seed. To disable >=0.\n",
    "    result_precision = 3,                            # Sets the rounding for the mean values in significan_means.\n",
    "    pvalue = 0.05,                                   # P-value threshold to employ for significance.\n",
    "    subsampling = False,                             # To enable subsampling the data (geometri sketching).\n",
    "    subsampling_log = False,                         # (mandatory) enable subsampling log1p for non log-transformed data inputs.\n",
    "    subsampling_num_pc = 100,                        # Number of componets to subsample via geometric skectching (dafault: 100).\n",
    "    subsampling_num_cells = 1000,                    # Number of cells to subsample (integer) (default: 1/3 of the dataset).\n",
    "    separator = '|',                                 # Sets the string to employ to separate cells in the results dataframes \"cellA|CellB\".\n",
    "    debug = False,                                   # Saves all intermediate tables employed during the analysis in pkl format.\n",
    "    output_path = out_path,                          # Path to save results.\n",
    "    output_suffix = None                             # Replaces the timestamp in the output files by a user defined string in the  (default: None).\n",
    "    )"
   ]
  },
  {
   "cell_type": "code",
   "execution_count": null,
   "id": "8271f308",
   "metadata": {},
   "outputs": [],
   "source": []
  }
 ],
 "metadata": {
  "kernelspec": {
   "display_name": "cpdb",
   "language": "python",
   "name": "cpdb"
  },
  "language_info": {
   "codemirror_mode": {
    "name": "ipython",
    "version": 3
   },
   "file_extension": ".py",
   "mimetype": "text/x-python",
   "name": "python",
   "nbconvert_exporter": "python",
   "pygments_lexer": "ipython3",
   "version": "3.11.4"
  }
 },
 "nbformat": 4,
 "nbformat_minor": 5
}
